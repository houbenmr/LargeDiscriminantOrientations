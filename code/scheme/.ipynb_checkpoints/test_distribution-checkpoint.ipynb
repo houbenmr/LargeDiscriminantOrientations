{
 "cells": [
  {
   "cell_type": "code",
   "execution_count": null,
   "id": "2a1b0363-0efe-4c2e-ac5b-41f4541496e0",
   "metadata": {},
   "outputs": [],
   "source": [
    "# Wessel's prime, Mar 7, 2025\n",
    "\n",
    "p = 0x233b5b0a49f78b81ba17dba3ec105a92c58ef817d9ef9c07f"
   ]
  },
  {
   "cell_type": "code",
   "execution_count": null,
   "id": "79da8f1f-dc33-4a07-8e68-bc4968c7bece",
   "metadata": {},
   "outputs": [],
   "source": [
    "# Bruno's prime, Apr 3, 2025\n",
    "\n",
    "p = 0x1564d5c06535edcad562433f0c7829f5002b0af85e5b5c6e76675ff97ca447167"
   ]
  },
  {
   "cell_type": "code",
   "execution_count": null,
   "id": "19c1b9ec-00e0-4d3a-9620-6ba66d4dd0e7",
   "metadata": {},
   "outputs": [],
   "source": [
    "# Bruno's prime for lambda = 221, Apr 14, 2025\n",
    "\n",
    "p = 0x70519a7b5d836b9337e19a52ea21167c75b056aa603bdcfe95b5f02fee4c8dcf"
   ]
  },
  {
   "cell_type": "code",
   "execution_count": 4,
   "id": "d08e8ba0-e0ea-4d6b-b17c-3a5c9007b74f",
   "metadata": {},
   "outputs": [],
   "source": [
    "# Bruno's prime for lambda = 256, Apr 14, 2025\n",
    "# trace = 29171033 for r = 13\n",
    "\n",
    "p = 0xaee61f0e7eb0b904142a14b1ba552ca011c6104b007e448fe6aed1f1af734f1f"
   ]
  },
  {
   "cell_type": "code",
   "execution_count": 1,
   "id": "add94780-ea49-4b74-a5bb-adaa9d84e440",
   "metadata": {},
   "outputs": [],
   "source": [
    "# CSURF-32 prime\n",
    "\n",
    "p = 8 * 3 * 5 * 7 * 17 * 19 * 23 * 29 * 31 - 1"
   ]
  },
  {
   "cell_type": "code",
   "execution_count": null,
   "id": "2e614a50-92d5-439e-98e4-0db5ba84a13c",
   "metadata": {},
   "outputs": [],
   "source": [
    "# \"The\" CSIDH-512 prime\n",
    "\n",
    "p = 0x65b48e8f740f89bffc8ab0d15e3e4c4ab42d083aedc88c425afbfcc69322c9cda7aac6c567f35507516730cc1f0b4f25c2721bf457aca8351b81b90533c6c87b"
   ]
  },
  {
   "cell_type": "code",
   "execution_count": null,
   "id": "f79f91a2-b084-46e6-bc1d-7f3e46aa2dfa",
   "metadata": {},
   "outputs": [],
   "source": [
    "# CSIDH-587 prime\n",
    "\n",
    "p = 0x6b89271d6b7cd00fb8c3befcf18fb136a9fea394c85dff8e7e1d8fe4ce7f60eaf47935891e8113f80831ab27c8e359f5264a720d2070e48c3149bdc164b811c36a6d04ab2b69148edfb"
   ]
  },
  {
   "cell_type": "code",
   "execution_count": null,
   "id": "41b88712-e8e8-44d9-a53c-e62a133907f0",
   "metadata": {},
   "outputs": [],
   "source": [
    "# CSIDH-457 prime\n",
    "\n",
    "p = 0x28308334591d239fe386ee2d81cf6791f373fd94efd335db9cdad3fe8ef030b6ea84c56f1580fa3e8d21b0a5836a2f30d9960a180313a2f89bb"
   ]
  },
  {
   "cell_type": "code",
   "execution_count": 1,
   "id": "09ddf627-d59d-40ed-9638-8427f7aee20b",
   "metadata": {},
   "outputs": [],
   "source": [
    "# CSIDH-413 prime\n",
    "\n",
    "p = 0x26d34fc5df34815c6dceaed214f971e8d360193d7f87d595a2ffa267877d9bc936a1ca2eba95b59513b79e520c5b3aec0711698b"
   ]
  },
  {
   "cell_type": "code",
   "execution_count": null,
   "id": "47f626cb-bee3-47e2-9dd9-e6dfe95711e4",
   "metadata": {},
   "outputs": [],
   "source": []
  },
  {
   "cell_type": "code",
   "execution_count": null,
   "id": "5e8e492f-46fe-4a3f-8831-708cb321245d",
   "metadata": {},
   "outputs": [],
   "source": []
  },
  {
   "cell_type": "code",
   "execution_count": 5,
   "id": "c1770c09-e617-4590-a452-a53cce8d03b4",
   "metadata": {},
   "outputs": [
    {
     "name": "stdout",
     "output_type": "stream",
     "text": [
      "Ms and Mt are not prespecified; computing optimal values for security level 256\n",
      "Using Ms = 7^2 * 11 * 23 * 29 * 37 * 41 * 43 * 53 * 61 * 67 * 73 * 79 * 83 * 103 * 107 * 131 * 137 * 149 * 173 * 199 * 211 * 277 * 307 and Mt = 3^2 * 5 * 13 * 17 * 19 * 31 * 47 * 59 * 71 * 89 * 97 * 101 * 109 * 113 * 127 * 139 * 151 * 157 * 163 * 167 * 179 * 181 * 191 * 193 * 223 * 233 * 269\n",
      "Found scheme parameters in database.\n",
      "using B = 33\n",
      "Secret key with exponent vectors [64, 31, 9, 17, 4, 19, 1, 5, 1, 8, 19, 17, 32, 10, 1, 30, 2, 6, 17, 13, 30, 33, 22] and [0, 11, 4, 4, 4, 4, 4, 7, 27, 12, 21, 1, 33, 32, 33, 25, 21, 3, 5, 19, 11, 4, 7, 19, 0, 5, 30] Secret key with exponent vectors [11, 24, 26, 26, 2, 18, 33, 19, 28, 11, 8, 27, 28, 33, 30, 11, 13, 12, 26, 13, 25, 5, 13] and [57, 23, 22, 23, 28, 27, 13, 14, 23, 23, 18, 22, 1, 30, 9, 28, 8, 20, 20, 28, 30, 21, 19, 25, 15, 22, 6]\n",
      "Alice public key generation took time 55.54809832572937\n",
      "Bob public key generation took time 54.395604372024536\n",
      "Alice shared secret generation took time 54.165987730026245\n",
      "Bob shared secret generation took time 54.32177972793579\n"
     ]
    }
   ],
   "source": [
    "r = 13\n",
    "\n",
    "lmbda = 256\n",
    "\n",
    "from time import time\n",
    "from parameters import setup\n",
    "\n",
    "params = setup(p, r, generate = True, write = False, lmbda = lmbda)\n",
    "\n",
    "import scheme as scheme\n",
    "from scheme_cost import exps_to_B\n",
    "\n",
    "scheme.params = params\n",
    "\n",
    "B = exps_to_B(params.exps, lmbda)\n",
    "\n",
    "print('using B =', B)\n",
    "\n",
    "sk_alice, sk_bob = scheme.keygen(B), scheme.keygen(B)\n",
    "\n",
    "print(sk_alice, sk_bob)\n",
    "\n",
    "start = time()\n",
    "pk_alice = scheme.group_action(scheme.params.base_cycle, sk_alice, B)\n",
    "end = time()\n",
    "print('Alice public key generation took time', end-start)\n",
    "start = time()\n",
    "pk_bob = scheme.group_action(scheme.params.base_cycle, sk_bob, B)\n",
    "end = time()\n",
    "print('Bob public key generation took time', end-start)\n",
    "start = time()\n",
    "ss_alice = scheme.group_action(pk_bob, sk_alice, B)\n",
    "end = time()\n",
    "print('Alice shared secret generation took time', end-start)\n",
    "start = time()\n",
    "ss_bob = scheme.group_action(pk_alice, sk_bob, B)\n",
    "end = time()\n",
    "print('Bob shared secret generation took time', end-start)\n",
    "\n",
    "assert ss_alice == ss_bob"
   ]
  },
  {
   "cell_type": "code",
   "execution_count": null,
   "id": "53e0fe21-1d10-451d-a04a-57c1a1066f14",
   "metadata": {},
   "outputs": [],
   "source": []
  },
  {
   "cell_type": "code",
   "execution_count": null,
   "id": "d441d638-1cc2-4350-9254-a72d9974063e",
   "metadata": {},
   "outputs": [],
   "source": []
  },
  {
   "cell_type": "code",
   "execution_count": null,
   "id": "bd9f1c89-e898-49fc-9c9b-040cac8ee48e",
   "metadata": {},
   "outputs": [],
   "source": []
  },
  {
   "cell_type": "code",
   "execution_count": 23,
   "id": "01b4db83-684b-419e-9dba-771923f1e358",
   "metadata": {},
   "outputs": [
    {
     "name": "stdout",
     "output_type": "stream",
     "text": [
      "Ms and Mt are not prespecified; computing optimal values for security level 256\n",
      "Using Ms = 7^2 * 11 * 23 * 29 * 37 * 41 * 43 * 53 * 61 * 67 * 73 * 79 * 83 * 103 * 107 * 131 * 137 * 149 * 173 * 199 * 211 * 277 * 307 and Mt = 3^2 * 5 * 13 * 17 * 19 * 31 * 47 * 59 * 71 * 89 * 97 * 101 * 109 * 113 * 127 * 139 * 151 * 157 * 163 * 167 * 179 * 181 * 191 * 193 * 223 * 233 * 269\n",
      "Found scheme parameters in database.\n"
     ]
    }
   ],
   "source": [
    "# Bruno's prime for lambda = 256, Apr 14, 2025\n",
    "# trace = 29171033 for r = 13\n",
    "\n",
    "p = 0xaee61f0e7eb0b904142a14b1ba552ca011c6104b007e448fe6aed1f1af734f1f\n",
    "\n",
    "r = 13\n",
    "\n",
    "lmbda = 256\n",
    "\n",
    "from time import time\n",
    "from parameters import setup\n",
    "\n",
    "params = setup(p, r, generate = True, write = False, lmbda = lmbda)\n",
    "\n",
    "import scheme as scheme\n",
    "\n",
    "scheme.params = params"
   ]
  },
  {
   "cell_type": "code",
   "execution_count": 28,
   "id": "c4a928aa-53b8-4872-81c3-07178a5090b3",
   "metadata": {},
   "outputs": [
    {
     "name": "stdout",
     "output_type": "stream",
     "text": [
      "1\n"
     ]
    }
   ],
   "source": [
    "from scheme import *\n",
    "\n",
    "_,coeff = group_action_home_base(scheme.params.base_cycle[0], scheme.params.base_cycle[1], scheme.params.exps_straight, scheme.params.exps_twist, output_normalizing_coefficient=True)"
   ]
  },
  {
   "cell_type": "code",
   "execution_count": 29,
   "id": "a6de17b8-9ff2-4d7e-8e9c-30e83d6e4f8f",
   "metadata": {},
   "outputs": [
    {
     "name": "stdout",
     "output_type": "stream",
     "text": [
      "1\n",
      "1\n",
      "1\n",
      "1\n",
      "1\n",
      "1\n",
      "1\n",
      "1\n",
      "1\n",
      "1\n",
      "1\n",
      "1\n",
      "1\n",
      "43440559562118150975557776266157174001679877807913489393914793134640397785232*i + 33021296266664213556904730855749170861639252276565588577197265133148621560095\n"
     ]
    }
   ],
   "source": [
    "result = 1\n",
    "for j in range(r):\n",
    "    _,coeff = group_action_home_base(scheme.params.base_cycle[j], scheme.params.base_cycle[(j+1)%r], scheme.params.exps_straight, scheme.params.exps_twist, output_normalizing_coefficient=True)\n",
    "    result *= coeff\n",
    "print(result)"
   ]
  },
  {
   "cell_type": "code",
   "execution_count": 30,
   "id": "e5e642f9-a4d6-4f2e-98e8-49b2a05c361b",
   "metadata": {},
   "outputs": [
    {
     "data": {
      "text/plain": [
       "[40471790380625685101871725296708377283280702097969292531687541913611550476481,\n",
       " 39204864510285399403764258460300976791210582154413412384823534972828540090135*i + 43768188980075309802415910005840462400854024350269106803606311978861036233085,\n",
       " 2784398699063683775664239973728800265717998253457621937935528781199756711560*i + 47347455346165702493309174892880827615833551093581699668013826461762445184904,\n",
       " 67457797859469663287762322176889999050875581632731366657013366035789715345467*i + 62762956800835446540749812224080853889068109520016690505545276334310375659130,\n",
       " 958711518929152918553557639473351229077416157004982374452166435333603125393*i + 5606626871718781767697440952997912588170453418706493841025564660296053715801]"
      ]
     },
     "execution_count": 30,
     "metadata": {},
     "output_type": "execute_result"
    }
   ],
   "source": [
    "_"
   ]
  },
  {
   "cell_type": "code",
   "execution_count": 31,
   "id": "4228a266-a25f-46d6-9479-cab0a000f6bc",
   "metadata": {},
   "outputs": [
    {
     "data": {
      "text/plain": [
       "1728"
      ]
     },
     "execution_count": 31,
     "metadata": {},
     "output_type": "execute_result"
    }
   ],
   "source": [
    "AffineRepresentation_to_OrientedKummer(*_).K.j_invariant()"
   ]
  },
  {
   "cell_type": "code",
   "execution_count": 39,
   "id": "99e21946-ebc7-4cf3-8e33-16895444c076",
   "metadata": {},
   "outputs": [
    {
     "name": "stdout",
     "output_type": "stream",
     "text": [
      "58134118411459300791854016451268314545019052892357111365555209154418872747699\n",
      "69767135057744716019078264414208892275163630391665667369549642386310799929623\n",
      "55543950384292489878295268911147353231472849764025432434276851636869098114543\n",
      "992799923557367564505399161298831909920643836368783806842320271676834652534\n",
      "67324627432193657142803175492681507337093587016583736003971269508763174928431\n",
      "22550534365412029315314872188076659164270019450918863716661394610369318945570\n",
      "68586094464763891228640276174060986192065681765297358734945233659458487721276\n",
      "64431958958723486886580165766839729841066835362503796590063395746263298510286\n",
      "36317948710177883327402317763207401940534437878655588652617234986507703061692\n",
      "42110226376635316332346119152884857633399209234043022197498738352688478223898\n",
      "446188205106757654761414609987012355776051568145099966857317649151339894449\n",
      "15295591524193114956244936886088756465225333917557872114344310300953\n",
      "524341785366089536707354068883633859151485445083753877154241\n",
      "17974741770923557513625042653910605742055327457335977\n",
      "616184616119818503294862497804263762001685969\n",
      "21123167497010424803772375760716590393\n",
      "724114483604691846317968093921\n",
      "24823066211083160692937\n",
      "850949166287089\n",
      "29171033\n",
      "1\n",
      "1187916760285830976831320221313591241535828246312838291437517945727255969443\n",
      "43007295712207671757187386984316641853375465821536491372062249012498367910275\n",
      "40033971634899765753307391380500468622171490813712245202430179939842153537313\n",
      "21210592786389040377521180137468452901399974633229422971833763416575586453492\n",
      "35844229223229101345096216008204251595487491679206999273566728053683016317747\n",
      "49587022797449535189593937605880453824562108207380392097367026287837229389276\n",
      "19958886960805363149457611435521800103423447026909076133200331466440087913183\n",
      "75818182205811477093438167718692552556842784059983838493831716238797868555335\n",
      "12320936560881628222339762939660360038551549351332768504908797139768785967288\n",
      "66305714170896024785680309744348298780132478680908565545219679109161002233696\n",
      "4598623043346294533582357911810540388204542374503212450967365173585058178451\n",
      "7654369320229462283226570209526961519669848447852450425626816234469108771583\n",
      "78119324059954969746882501878301511925912336236157129926978931464930797700513\n",
      "12340714551574594791595432385005683723072942116060237522067784870884586914685\n",
      "72404771454958189842169364340098563261920191913765307358540403263324519147570\n",
      "31176342770111064141961514761772253463405169085717445128302098577897938514660\n",
      "8039560860636946667518073330777202641113502600653610588437494257955610023035\n",
      "46829740121160966167461474961037054403546893801524833030719382957360249388201\n",
      "45088726559655119123334501969908105701306483024267991942872926096036789304573\n"
     ]
    }
   ],
   "source": [
    "from sage.all import GF\n",
    "\n",
    "for l in range(-20,20):\n",
    "    print((GF(p)(29171033))**(-l))"
   ]
  },
  {
   "cell_type": "code",
   "execution_count": null,
   "id": "2fe88bb7-924f-431b-917f-0d47173e1f77",
   "metadata": {},
   "outputs": [],
   "source": []
  },
  {
   "cell_type": "code",
   "execution_count": null,
   "id": "07f7d1ba-f47d-49c0-94f6-c61862c3de3b",
   "metadata": {},
   "outputs": [],
   "source": []
  },
  {
   "cell_type": "code",
   "execution_count": 12,
   "id": "5c2e9754-a64f-4113-89f5-2b0a449fdbec",
   "metadata": {},
   "outputs": [
    {
     "name": "stdout",
     "output_type": "stream",
     "text": [
      "Ms and Mt are not prespecified; computing optimal values for security level 256\n",
      "Using Ms = 7^2 * 11 * 23 * 29 * 37 * 41 * 43 * 53 * 61 * 67 * 73 * 79 * 83 * 103 * 107 * 131 * 137 * 149 * 173 * 199 * 211 * 277 * 307 and Mt = 3^2 * 5 * 13 * 17 * 19 * 31 * 47 * 59 * 71 * 89 * 97 * 101 * 109 * 113 * 127 * 139 * 151 * 157 * 163 * 167 * 179 * 181 * 191 * 193 * 223 * 233 * 269\n",
      "Found scheme parameters in database.\n",
      "using B = 33\n",
      "Secret key with exponent vectors [61, 8, 12, 7, 3, 26, 22, 12, 10, 22, 20, 8, 29, 26, 17, 5, 6, 5, 1, 25, 5, 24, 2] and [7, 21, 5, 19, 18, 31, 11, 22, 14, 22, 4, 4, 24, 8, 17, 17, 11, 0, 24, 0, 4, 33, 32, 8, 18, 29, 32] Secret key with exponent vectors [17, 11, 22, 24, 32, 33, 22, 10, 7, 13, 10, 0, 29, 29, 12, 7, 20, 5, 24, 7, 15, 27, 15] and [44, 17, 1, 4, 21, 22, 20, 21, 14, 21, 31, 2, 12, 0, 31, 1, 7, 5, 18, 32, 32, 32, 0, 32, 16, 26, 17]\n",
      "Alice public key generation took time 123.0548768043518\n",
      "Bob public key generation took time 123.07008075714111\n",
      "Alice shared secret generation took time 122.96818351745605\n",
      "Bob shared secret generation took time 122.88204169273376\n"
     ]
    }
   ],
   "source": [
    "r = 13\n",
    "\n",
    "lmbda = 256\n",
    "\n",
    "from time import time\n",
    "from parameters import setup\n",
    "\n",
    "params = setup(p, r, trace = 29171033, lmbda = lmbda)\n",
    "\n",
    "import scheme as scheme\n",
    "from scheme_cost import exps_to_B\n",
    "\n",
    "scheme.params = params\n",
    "\n",
    "B = exps_to_B(params.exps, lmbda)\n",
    "\n",
    "print('using B =', B)\n",
    "\n",
    "sk_alice, sk_bob = scheme.keygen(B), scheme.keygen(B)\n",
    "\n",
    "print(sk_alice, sk_bob)\n",
    "\n",
    "#benchmark\n",
    "\n",
    "timings = []\n",
    "\n",
    "for i in range(1):\n",
    "    \n",
    "    start = time()\n",
    "    pk_alice = scheme.group_action(scheme.params.base_cycle, sk_alice, B)\n",
    "    end = time()\n",
    "    print('Alice public key generation took time', end-start)\n",
    "    timings.append(end-start)\n",
    "    start = time()\n",
    "    pk_bob = scheme.group_action(scheme.params.base_cycle, sk_bob, B)\n",
    "    end = time()\n",
    "    print('Bob public key generation took time', end-start)\n",
    "    timings.append(end-start)\n",
    "    start = time()\n",
    "    ss_alice = scheme.group_action(pk_bob, sk_alice, B)\n",
    "    end = time()\n",
    "    print('Alice shared secret generation took time', end-start)\n",
    "    timings.append(end-start)\n",
    "    start = time()\n",
    "    ss_bob = scheme.group_action(pk_alice, sk_bob, B)\n",
    "    end = time()\n",
    "    print('Bob shared secret generation took time', end-start)\n",
    "    timings.append(end-start)\n",
    "    \n",
    "    assert ss_alice == ss_bob"
   ]
  },
  {
   "cell_type": "code",
   "execution_count": null,
   "id": "08f163e2-5dbf-46be-90c5-129afe77b5b7",
   "metadata": {},
   "outputs": [],
   "source": []
  },
  {
   "cell_type": "code",
   "execution_count": null,
   "id": "051c5fe9-f39f-4e9c-85d6-ea4d919be603",
   "metadata": {},
   "outputs": [],
   "source": []
  },
  {
   "cell_type": "code",
   "execution_count": null,
   "id": "6c1454f8-f3fe-4759-b35d-f1e76b5ef6c6",
   "metadata": {},
   "outputs": [],
   "source": []
  },
  {
   "cell_type": "code",
   "execution_count": null,
   "id": "22f2e85c-a7ca-4fb1-b1e4-81fe3bc58ba2",
   "metadata": {},
   "outputs": [],
   "source": []
  },
  {
   "cell_type": "code",
   "execution_count": null,
   "id": "3fe03986-2c9a-45b1-aec4-b50c63880a64",
   "metadata": {},
   "outputs": [],
   "source": []
  }
 ],
 "metadata": {
  "kernelspec": {
   "display_name": "Python 3 (ipykernel)",
   "language": "python",
   "name": "python3"
  },
  "language_info": {
   "codemirror_mode": {
    "name": "ipython",
    "version": 3
   },
   "file_extension": ".py",
   "mimetype": "text/x-python",
   "name": "python",
   "nbconvert_exporter": "python",
   "pygments_lexer": "ipython3",
   "version": "3.12.3"
  }
 },
 "nbformat": 4,
 "nbformat_minor": 5
}
