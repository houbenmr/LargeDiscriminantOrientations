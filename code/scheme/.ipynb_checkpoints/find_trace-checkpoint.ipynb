{
 "cells": [
  {
   "cell_type": "code",
   "execution_count": 1,
   "id": "2a1b0363-0efe-4c2e-ac5b-41f4541496e0",
   "metadata": {},
   "outputs": [],
   "source": [
    "# Wessel's prime, Mar 7, 2025\n",
    "\n",
    "p = 0x233b5b0a49f78b81ba17dba3ec105a92c58ef817d9ef9c07f"
   ]
  },
  {
   "cell_type": "code",
   "execution_count": 2,
   "id": "79da8f1f-dc33-4a07-8e68-bc4968c7bece",
   "metadata": {},
   "outputs": [],
   "source": [
    "# Bruno's prime, Apr 3, 2025\n",
    "\n",
    "p = 0x1564d5c06535edcad562433f0c7829f5002b0af85e5b5c6e76675ff97ca447167"
   ]
  },
  {
   "cell_type": "code",
   "execution_count": 3,
   "id": "19c1b9ec-00e0-4d3a-9620-6ba66d4dd0e7",
   "metadata": {},
   "outputs": [],
   "source": [
    "# Bruno's prime for lambda = 221, Apr 14, 2025\n",
    "\n",
    "p = 0x70519a7b5d836b9337e19a52ea21167c75b056aa603bdcfe95b5f02fee4c8dcf"
   ]
  },
  {
   "cell_type": "code",
   "execution_count": 1,
   "id": "d08e8ba0-e0ea-4d6b-b17c-3a5c9007b74f",
   "metadata": {},
   "outputs": [],
   "source": [
    "# Bruno's prime for lambda = 256, Apr 14, 2025\n",
    "\n",
    "p = 0xaee61f0e7eb0b904142a14b1ba552ca011c6104b007e448fe6aed1f1af734f1f"
   ]
  },
  {
   "cell_type": "code",
   "execution_count": 1,
   "id": "add94780-ea49-4b74-a5bb-adaa9d84e440",
   "metadata": {},
   "outputs": [],
   "source": [
    "# CSURF-32 prime\n",
    "\n",
    "p = 8 * 3 * 5 * 7 * 17 * 19 * 23 * 29 * 31 - 1"
   ]
  },
  {
   "cell_type": "code",
   "execution_count": 6,
   "id": "2e614a50-92d5-439e-98e4-0db5ba84a13c",
   "metadata": {},
   "outputs": [],
   "source": [
    "# \"The\" CSIDH-512 prime\n",
    "\n",
    "p = 0x65b48e8f740f89bffc8ab0d15e3e4c4ab42d083aedc88c425afbfcc69322c9cda7aac6c567f35507516730cc1f0b4f25c2721bf457aca8351b81b90533c6c87b"
   ]
  },
  {
   "cell_type": "code",
   "execution_count": 7,
   "id": "f79f91a2-b084-46e6-bc1d-7f3e46aa2dfa",
   "metadata": {},
   "outputs": [],
   "source": [
    "# CSIDH-587 prime\n",
    "\n",
    "p = 0x6b89271d6b7cd00fb8c3befcf18fb136a9fea394c85dff8e7e1d8fe4ce7f60eaf47935891e8113f80831ab27c8e359f5264a720d2070e48c3149bdc164b811c36a6d04ab2b69148edfb"
   ]
  },
  {
   "cell_type": "code",
   "execution_count": 8,
   "id": "41b88712-e8e8-44d9-a53c-e62a133907f0",
   "metadata": {},
   "outputs": [],
   "source": [
    "# CSIDH-457 prime\n",
    "\n",
    "p = 0x28308334591d239fe386ee2d81cf6791f373fd94efd335db9cdad3fe8ef030b6ea84c56f1580fa3e8d21b0a5836a2f30d9960a180313a2f89bb"
   ]
  },
  {
   "cell_type": "code",
   "execution_count": 5,
   "id": "09ddf627-d59d-40ed-9638-8427f7aee20b",
   "metadata": {},
   "outputs": [],
   "source": [
    "# CSIDH-413 prime\n",
    "\n",
    "p = 0x26d34fc5df34815c6dceaed214f971e8d360193d7f87d595a2ffa267877d9bc936a1ca2eba95b59513b79e520c5b3aec0711698b"
   ]
  },
  {
   "cell_type": "code",
   "execution_count": 1,
   "id": "ab8fe0fd-1c89-4416-8cc8-3861e5abc82a",
   "metadata": {},
   "outputs": [],
   "source": [
    "# \"more optimal\" CSIDH-514.6 prime, May 12, 2025\n",
    "\n",
    "p = 0x62a78c7d5d89de462a94f1d2be9573eacd717abfca5e5e9993dc08861e702f7dc595cf96c3f2c8c488bc02e165a095ea79ebc348b269b96d12585a23966195b43"
   ]
  },
  {
   "cell_type": "code",
   "execution_count": null,
   "id": "671e7443-7cb7-4eef-960b-9ab7650f9dc5",
   "metadata": {},
   "outputs": [],
   "source": []
  },
  {
   "cell_type": "code",
   "execution_count": null,
   "id": "53e80f95-e479-4f31-b72b-841daee35f66",
   "metadata": {},
   "outputs": [
    {
     "name": "stdout",
     "output_type": "stream",
     "text": [
      "Ms and Mt are not prespecified; computing optimal values for security level 256\n",
      "Ms = 3^4 * 5 * 7 * 11^2 * 19 * 23 * 29 * 31 * 41 * 43 * 47 * 53 * 71 * 79 * 83 * 89 * 97 * 107 * 109 * 113 * 131 * 137 * 149 * 151 * 157 * 163 * 167 * 181 * 229 * 239 * 269\n",
      "Mt = 13 * 17 * 37 * 59 * 61 * 67 * 73 * 101 * 103 * 127 * 139 * 173 * 179 * 191 * 193 * 199 * 211 * 241\n",
      "B = 35\n"
     ]
    }
   ],
   "source": [
    "from sage.all import parallel, Primes, ZZ, factor, prod\n",
    "\n",
    "# Bruno prime 16 Jun 2025\n",
    "\n",
    "p = 0x53d1c0debdc0c1ba3edd760148d21a078008f642a9f26f65995c4d86fc6efff7\n",
    "\n",
    "r = 16\n",
    "\n",
    "lmbda = 256\n",
    "\n",
    "print('Ms and Mt are not prespecified; computing optimal values for security level', lmbda)\n",
    "\n",
    "from scheme_cost import minimize_scheme_cost\n",
    "\n",
    "tups = ZZ(p**2-1).odd_part().factor()\n",
    "ells = [ell for [ell,r] in tups]\n",
    "exps = [r for [ell,r] in tups]\n",
    "best, exps, B = minimize_scheme_cost(ells, exps, lmbda)\n",
    "ells_straight = [ell for ell in ells if (p+1)%ell == 0]\n",
    "ells_twist = [ell for ell in ells if (p-1)%ell == 0]\n",
    "exps_straight = [exps[i] for i in range(len(exps)) if (p+1)%ells[i] == 0]\n",
    "exps_twist = [exps[i] for i in range(len(exps)) if (p-1)%ells[i] == 0]\n",
    "Ms = prod([ells_straight[i]**exps_straight[i] for i in range(len(ells_straight))])\n",
    "Mt = prod([ells_twist[i]**exps_twist[i] for i in range(len(ells_twist))])\n",
    "\n",
    "print('Ms =', ZZ(Ms).factor())\n",
    "print('Mt =', ZZ(Mt).factor())\n",
    "\n",
    "M = Ms*Mt\n",
    "\n",
    "print('B =', B)\n",
    "\n",
    "from orientation_tools import find_sigma\n",
    "\n",
    "num_cores = 14\n",
    "\n",
    "input = [(p, r, M, Primes()[core], num_cores) for core in range(num_cores)]\n",
    "\n",
    "[x for _,x in parallel(num_cores)(find_sigma)(input)]"
   ]
  },
  {
   "cell_type": "code",
   "execution_count": null,
   "id": "1e32e431-d789-4b11-a6bc-42aa0b311477",
   "metadata": {},
   "outputs": [],
   "source": []
  },
  {
   "cell_type": "code",
   "execution_count": null,
   "id": "3dce4be2-8df7-4d0d-ae90-64246df7e94f",
   "metadata": {},
   "outputs": [],
   "source": []
  }
 ],
 "metadata": {
  "kernelspec": {
   "display_name": "Python 3 (ipykernel)",
   "language": "python",
   "name": "python3"
  },
  "language_info": {
   "codemirror_mode": {
    "name": "ipython",
    "version": 3
   },
   "file_extension": ".py",
   "mimetype": "text/x-python",
   "name": "python",
   "nbconvert_exporter": "python",
   "pygments_lexer": "ipython3",
   "version": "3.12.3"
  }
 },
 "nbformat": 4,
 "nbformat_minor": 5
}
